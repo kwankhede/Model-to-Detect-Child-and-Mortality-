{
 "cells": [
  {
   "cell_type": "markdown",
   "metadata": {},
   "source": [
    "![2](green.png)"
   ]
  },
  {
   "cell_type": "markdown",
   "metadata": {},
   "source": [
    "### Abstract :\n",
    "Develop a model to Classify fetal health in order to prevent child and maternal mortality using features extracted from Cardiotocogram exams. \n",
    "\n"
   ]
  },
  {
   "cell_type": "markdown",
   "metadata": {},
   "source": [
    "\n",
    "\n",
    "Reduction of child mortality is reflected in several of the United Nations' Sustainable Development Goals and is a key indicator of human progress. The UN expects that by 2030, countries should end preventable deaths of newborns and children under 5 years of age, with all countries aiming to reduce under‑5 mortality to at least as low as 25 per 1,000 live births.\n",
    "\n",
    "Parallel to the notion of child mortality is, of course, maternal mortality, which accounts for 295,000 deaths during and following pregnancy and childbirth (as of 2017). The vast majority of these deaths (94%) occurred in low-resource settings, and most could have been prevented.\n",
    "\n",
    "In light of what was mentioned above, Cardiotocograms (CTGs) are a simple and cost-accessible option to assess fetal health, allowing healthcare professionals to take action to prevent child and maternal mortality. The equipment itself works by sending ultrasound pulses and reading its response, shedding light on fetal heart rate (FHR), fetal movements, uterine contractions, and more.\n",
    "\n",
    "### Data : \n",
    "\n",
    "This dataset contains 2126 records of features extracted from Cardiotocogram exams, which were then classified by three expert obstetricians into 3 classes:\n",
    "\n",
    "- Normal\n",
    "- Suspect\n",
    "- Pathological\n",
    "\n",
    "\n",
    "\n"
   ]
  },
  {
   "cell_type": "markdown",
   "metadata": {},
   "source": [
    "### <font color=''> Load Libraries  :<font>"
   ]
  },
  {
   "cell_type": "code",
   "execution_count": 46,
   "metadata": {
    "execution": {
     "iopub.execute_input": "2023-11-13T16:46:24.687207Z",
     "iopub.status.busy": "2023-11-13T16:46:24.686754Z",
     "iopub.status.idle": "2023-11-13T16:46:24.697429Z",
     "shell.execute_reply": "2023-11-13T16:46:24.696102Z",
     "shell.execute_reply.started": "2023-11-13T16:46:24.687176Z"
    }
   },
   "outputs": [],
   "source": [
    "# import library for numerical operations\n",
    "import numpy as np \n",
    "\n",
    "# import library for data manipulation and analysis\n",
    "import pandas as pd\n",
    "\n",
    "# import library for statistical functions\n",
    "from scipy import stats\n",
    "\n",
    "# import library for data preprocessing and scaling\n",
    "from sklearn import preprocessing\n",
    "\n",
    "# import library for data visualization\n",
    "import matplotlib.pyplot as plt\n",
    "import seaborn as sns\n",
    "\n",
    "# import library for handling missing values\n",
    "from sklearn.impute import KNNImputer\n",
    "\n",
    "# import library for feature scaling\n",
    "from sklearn.preprocessing import MinMaxScaler\n",
    "\n",
    "# import library for Naive Bayes classifier\n",
    "from sklearn.naive_bayes import MultinomialNB\n",
    "\n",
    "# import library for Logistic Regression classifier\n",
    "from sklearn.linear_model import LogisticRegression\n",
    "\n",
    "# import library for Decision Tree classifier\n",
    "from sklearn.tree import DecisionTreeClassifier\n",
    "\n",
    "# import library for Random Forest classifier\n",
    "from sklearn.ensemble import RandomForestClassifier\n",
    "\n",
    "# import library for K-Nearest Neighbors classifier\n",
    "from sklearn.neighbors import KNeighborsClassifier\n",
    "\n",
    "# import library for Support Vector Machine (SVM) classifier\n",
    "from sklearn.svm import SVC\n",
    "\n",
    "# import library for Gradient Boosting classifier\n",
    "from sklearn.ensemble import GradientBoostingClassifier\n",
    "\n",
    "# import library for splitting the dataset into training and testing sets\n",
    "from sklearn.model_selection import train_test_split\n",
    "\n",
    "# import libraries for model evaluation metrics\n",
    "from sklearn.metrics import confusion_matrix, accuracy_score, precision_score, recall_score, f1_score\n",
    "\n",
    "# import libraries for hyperparameter tuning\n",
    "from sklearn.model_selection import GridSearchCV, RandomizedSearchCV\n"
   ]
  },
  {
   "cell_type": "markdown",
   "metadata": {},
   "source": [
    "## Load & understand data\n"
   ]
  },
  {
   "cell_type": "code",
   "execution_count": 68,
   "metadata": {
    "execution": {
     "iopub.execute_input": "2023-11-13T15:51:52.886898Z",
     "iopub.status.busy": "2023-11-13T15:51:52.885841Z",
     "iopub.status.idle": "2023-11-13T15:51:52.954835Z",
     "shell.execute_reply": "2023-11-13T15:51:52.953381Z",
     "shell.execute_reply.started": "2023-11-13T15:51:52.886845Z"
    }
   },
   "outputs": [
    {
     "data": {
      "text/html": [
       "<div>\n",
       "<style scoped>\n",
       "    .dataframe tbody tr th:only-of-type {\n",
       "        vertical-align: middle;\n",
       "    }\n",
       "\n",
       "    .dataframe tbody tr th {\n",
       "        vertical-align: top;\n",
       "    }\n",
       "\n",
       "    .dataframe thead th {\n",
       "        text-align: right;\n",
       "    }\n",
       "</style>\n",
       "<table border=\"1\" class=\"dataframe\">\n",
       "  <thead>\n",
       "    <tr style=\"text-align: right;\">\n",
       "      <th></th>\n",
       "      <th>baseline value</th>\n",
       "      <th>accelerations</th>\n",
       "      <th>fetal_movement</th>\n",
       "      <th>uterine_contractions</th>\n",
       "      <th>light_decelerations</th>\n",
       "      <th>severe_decelerations</th>\n",
       "      <th>prolongued_decelerations</th>\n",
       "      <th>abnormal_short_term_variability</th>\n",
       "      <th>mean_value_of_short_term_variability</th>\n",
       "      <th>percentage_of_time_with_abnormal_long_term_variability</th>\n",
       "      <th>...</th>\n",
       "      <th>histogram_min</th>\n",
       "      <th>histogram_max</th>\n",
       "      <th>histogram_number_of_peaks</th>\n",
       "      <th>histogram_number_of_zeroes</th>\n",
       "      <th>histogram_mode</th>\n",
       "      <th>histogram_mean</th>\n",
       "      <th>histogram_median</th>\n",
       "      <th>histogram_variance</th>\n",
       "      <th>histogram_tendency</th>\n",
       "      <th>fetal_health</th>\n",
       "    </tr>\n",
       "  </thead>\n",
       "  <tbody>\n",
       "    <tr>\n",
       "      <th>0</th>\n",
       "      <td>120.0</td>\n",
       "      <td>0.000</td>\n",
       "      <td>0.0</td>\n",
       "      <td>0.000</td>\n",
       "      <td>0.000</td>\n",
       "      <td>0.0</td>\n",
       "      <td>0.0</td>\n",
       "      <td>73.0</td>\n",
       "      <td>0.5</td>\n",
       "      <td>43.0</td>\n",
       "      <td>...</td>\n",
       "      <td>62.0</td>\n",
       "      <td>126.0</td>\n",
       "      <td>2.0</td>\n",
       "      <td>0.0</td>\n",
       "      <td>120.0</td>\n",
       "      <td>137.0</td>\n",
       "      <td>121.0</td>\n",
       "      <td>73.0</td>\n",
       "      <td>1.0</td>\n",
       "      <td>2.0</td>\n",
       "    </tr>\n",
       "    <tr>\n",
       "      <th>1</th>\n",
       "      <td>132.0</td>\n",
       "      <td>0.006</td>\n",
       "      <td>0.0</td>\n",
       "      <td>0.006</td>\n",
       "      <td>0.003</td>\n",
       "      <td>0.0</td>\n",
       "      <td>0.0</td>\n",
       "      <td>17.0</td>\n",
       "      <td>2.1</td>\n",
       "      <td>0.0</td>\n",
       "      <td>...</td>\n",
       "      <td>68.0</td>\n",
       "      <td>198.0</td>\n",
       "      <td>6.0</td>\n",
       "      <td>1.0</td>\n",
       "      <td>141.0</td>\n",
       "      <td>136.0</td>\n",
       "      <td>140.0</td>\n",
       "      <td>12.0</td>\n",
       "      <td>0.0</td>\n",
       "      <td>1.0</td>\n",
       "    </tr>\n",
       "    <tr>\n",
       "      <th>2</th>\n",
       "      <td>133.0</td>\n",
       "      <td>0.003</td>\n",
       "      <td>0.0</td>\n",
       "      <td>0.008</td>\n",
       "      <td>0.003</td>\n",
       "      <td>0.0</td>\n",
       "      <td>0.0</td>\n",
       "      <td>16.0</td>\n",
       "      <td>2.1</td>\n",
       "      <td>0.0</td>\n",
       "      <td>...</td>\n",
       "      <td>68.0</td>\n",
       "      <td>198.0</td>\n",
       "      <td>5.0</td>\n",
       "      <td>1.0</td>\n",
       "      <td>141.0</td>\n",
       "      <td>135.0</td>\n",
       "      <td>138.0</td>\n",
       "      <td>13.0</td>\n",
       "      <td>0.0</td>\n",
       "      <td>1.0</td>\n",
       "    </tr>\n",
       "    <tr>\n",
       "      <th>3</th>\n",
       "      <td>134.0</td>\n",
       "      <td>0.003</td>\n",
       "      <td>0.0</td>\n",
       "      <td>0.008</td>\n",
       "      <td>0.003</td>\n",
       "      <td>0.0</td>\n",
       "      <td>0.0</td>\n",
       "      <td>16.0</td>\n",
       "      <td>2.4</td>\n",
       "      <td>0.0</td>\n",
       "      <td>...</td>\n",
       "      <td>53.0</td>\n",
       "      <td>170.0</td>\n",
       "      <td>11.0</td>\n",
       "      <td>0.0</td>\n",
       "      <td>137.0</td>\n",
       "      <td>134.0</td>\n",
       "      <td>137.0</td>\n",
       "      <td>13.0</td>\n",
       "      <td>1.0</td>\n",
       "      <td>1.0</td>\n",
       "    </tr>\n",
       "    <tr>\n",
       "      <th>4</th>\n",
       "      <td>132.0</td>\n",
       "      <td>0.007</td>\n",
       "      <td>0.0</td>\n",
       "      <td>0.008</td>\n",
       "      <td>0.000</td>\n",
       "      <td>0.0</td>\n",
       "      <td>0.0</td>\n",
       "      <td>16.0</td>\n",
       "      <td>2.4</td>\n",
       "      <td>0.0</td>\n",
       "      <td>...</td>\n",
       "      <td>53.0</td>\n",
       "      <td>170.0</td>\n",
       "      <td>9.0</td>\n",
       "      <td>0.0</td>\n",
       "      <td>137.0</td>\n",
       "      <td>136.0</td>\n",
       "      <td>138.0</td>\n",
       "      <td>11.0</td>\n",
       "      <td>1.0</td>\n",
       "      <td>1.0</td>\n",
       "    </tr>\n",
       "  </tbody>\n",
       "</table>\n",
       "<p>5 rows × 22 columns</p>\n",
       "</div>"
      ],
      "text/plain": [
       "   baseline value  accelerations  fetal_movement  uterine_contractions  \\\n",
       "0           120.0          0.000             0.0                 0.000   \n",
       "1           132.0          0.006             0.0                 0.006   \n",
       "2           133.0          0.003             0.0                 0.008   \n",
       "3           134.0          0.003             0.0                 0.008   \n",
       "4           132.0          0.007             0.0                 0.008   \n",
       "\n",
       "   light_decelerations  severe_decelerations  prolongued_decelerations  \\\n",
       "0                0.000                   0.0                       0.0   \n",
       "1                0.003                   0.0                       0.0   \n",
       "2                0.003                   0.0                       0.0   \n",
       "3                0.003                   0.0                       0.0   \n",
       "4                0.000                   0.0                       0.0   \n",
       "\n",
       "   abnormal_short_term_variability  mean_value_of_short_term_variability  \\\n",
       "0                             73.0                                   0.5   \n",
       "1                             17.0                                   2.1   \n",
       "2                             16.0                                   2.1   \n",
       "3                             16.0                                   2.4   \n",
       "4                             16.0                                   2.4   \n",
       "\n",
       "   percentage_of_time_with_abnormal_long_term_variability  ...  histogram_min  \\\n",
       "0                                               43.0       ...           62.0   \n",
       "1                                                0.0       ...           68.0   \n",
       "2                                                0.0       ...           68.0   \n",
       "3                                                0.0       ...           53.0   \n",
       "4                                                0.0       ...           53.0   \n",
       "\n",
       "   histogram_max  histogram_number_of_peaks  histogram_number_of_zeroes  \\\n",
       "0          126.0                        2.0                         0.0   \n",
       "1          198.0                        6.0                         1.0   \n",
       "2          198.0                        5.0                         1.0   \n",
       "3          170.0                       11.0                         0.0   \n",
       "4          170.0                        9.0                         0.0   \n",
       "\n",
       "   histogram_mode  histogram_mean  histogram_median  histogram_variance  \\\n",
       "0           120.0           137.0             121.0                73.0   \n",
       "1           141.0           136.0             140.0                12.0   \n",
       "2           141.0           135.0             138.0                13.0   \n",
       "3           137.0           134.0             137.0                13.0   \n",
       "4           137.0           136.0             138.0                11.0   \n",
       "\n",
       "   histogram_tendency  fetal_health  \n",
       "0                 1.0           2.0  \n",
       "1                 0.0           1.0  \n",
       "2                 0.0           1.0  \n",
       "3                 1.0           1.0  \n",
       "4                 1.0           1.0  \n",
       "\n",
       "[5 rows x 22 columns]"
      ]
     },
     "execution_count": 68,
     "metadata": {},
     "output_type": "execute_result"
    }
   ],
   "source": [
    "df = pd.read_csv('fetal_health.csv')\n",
    "df.head()"
   ]
  },
  {
   "cell_type": "code",
   "execution_count": 70,
   "metadata": {},
   "outputs": [
    {
     "name": "stdout",
     "output_type": "stream",
     "text": [
      "The dataset has 2126 rows and 22 columnns.\n"
     ]
    }
   ],
   "source": [
    "print(f\"The dataset has {df.shape[0]} rows and {df.shape[1]} columnns.\")"
   ]
  },
  {
   "cell_type": "markdown",
   "metadata": {},
   "source": [
    "First 22 columns would be our features and the last column would be our target variable.Let's check the distribution of fetal health in order to see the how many are \n",
    "- Normal\n",
    "- Suspect\n",
    "- Pathological"
   ]
  },
  {
   "cell_type": "code",
   "execution_count": 80,
   "metadata": {},
   "outputs": [
    {
     "data": {
      "text/plain": [
       "1.0    1655\n",
       "2.0     295\n",
       "3.0     176\n",
       "Name: fetal_health, dtype: int64"
      ]
     },
     "execution_count": 80,
     "metadata": {},
     "output_type": "execute_result"
    }
   ],
   "source": [
    "df['fetal_health'].value_counts()"
   ]
  },
  {
   "cell_type": "code",
   "execution_count": 89,
   "metadata": {},
   "outputs": [
    {
     "data": {
      "application/vnd.plotly.v1+json": {
       "config": {
        "plotlyServerURL": "https://plot.ly"
       },
       "data": [
        {
         "customdata": [
          [
           "Normal"
          ],
          [
           "Suspect"
          ],
          [
           "Pathological"
          ]
         ],
         "domain": {
          "x": [
           0,
           1
          ],
          "y": [
           0,
           1
          ]
         },
         "hovertemplate": "label=%{label}<br>value=%{value}<br>color=%{customdata[0]}<extra></extra>",
         "labels": [
          "Normal",
          "Suspect",
          "Pathological"
         ],
         "legendgroup": "",
         "marker": {
          "colors": [
           "#FF9999",
           "#66B2FF",
           "#99FF99"
          ]
         },
         "name": "",
         "showlegend": true,
         "type": "pie",
         "values": [
          1655,
          295,
          176
         ]
        }
       ],
       "layout": {
        "font": {
         "color": "black",
         "family": "Arial",
         "size": 12
        },
        "legend": {
         "tracegroupgap": 0
        },
        "piecolorway": [
         "#FF9999",
         "#66B2FF",
         "#99FF99"
        ],
        "plot_bgcolor": "white",
        "template": {
         "data": {
          "bar": [
           {
            "error_x": {
             "color": "#2a3f5f"
            },
            "error_y": {
             "color": "#2a3f5f"
            },
            "marker": {
             "line": {
              "color": "#E5ECF6",
              "width": 0.5
             },
             "pattern": {
              "fillmode": "overlay",
              "size": 10,
              "solidity": 0.2
             }
            },
            "type": "bar"
           }
          ],
          "barpolar": [
           {
            "marker": {
             "line": {
              "color": "#E5ECF6",
              "width": 0.5
             },
             "pattern": {
              "fillmode": "overlay",
              "size": 10,
              "solidity": 0.2
             }
            },
            "type": "barpolar"
           }
          ],
          "carpet": [
           {
            "aaxis": {
             "endlinecolor": "#2a3f5f",
             "gridcolor": "white",
             "linecolor": "white",
             "minorgridcolor": "white",
             "startlinecolor": "#2a3f5f"
            },
            "baxis": {
             "endlinecolor": "#2a3f5f",
             "gridcolor": "white",
             "linecolor": "white",
             "minorgridcolor": "white",
             "startlinecolor": "#2a3f5f"
            },
            "type": "carpet"
           }
          ],
          "choropleth": [
           {
            "colorbar": {
             "outlinewidth": 0,
             "ticks": ""
            },
            "type": "choropleth"
           }
          ],
          "contour": [
           {
            "colorbar": {
             "outlinewidth": 0,
             "ticks": ""
            },
            "colorscale": [
             [
              0,
              "#0d0887"
             ],
             [
              0.1111111111111111,
              "#46039f"
             ],
             [
              0.2222222222222222,
              "#7201a8"
             ],
             [
              0.3333333333333333,
              "#9c179e"
             ],
             [
              0.4444444444444444,
              "#bd3786"
             ],
             [
              0.5555555555555556,
              "#d8576b"
             ],
             [
              0.6666666666666666,
              "#ed7953"
             ],
             [
              0.7777777777777778,
              "#fb9f3a"
             ],
             [
              0.8888888888888888,
              "#fdca26"
             ],
             [
              1,
              "#f0f921"
             ]
            ],
            "type": "contour"
           }
          ],
          "contourcarpet": [
           {
            "colorbar": {
             "outlinewidth": 0,
             "ticks": ""
            },
            "type": "contourcarpet"
           }
          ],
          "heatmap": [
           {
            "colorbar": {
             "outlinewidth": 0,
             "ticks": ""
            },
            "colorscale": [
             [
              0,
              "#0d0887"
             ],
             [
              0.1111111111111111,
              "#46039f"
             ],
             [
              0.2222222222222222,
              "#7201a8"
             ],
             [
              0.3333333333333333,
              "#9c179e"
             ],
             [
              0.4444444444444444,
              "#bd3786"
             ],
             [
              0.5555555555555556,
              "#d8576b"
             ],
             [
              0.6666666666666666,
              "#ed7953"
             ],
             [
              0.7777777777777778,
              "#fb9f3a"
             ],
             [
              0.8888888888888888,
              "#fdca26"
             ],
             [
              1,
              "#f0f921"
             ]
            ],
            "type": "heatmap"
           }
          ],
          "heatmapgl": [
           {
            "colorbar": {
             "outlinewidth": 0,
             "ticks": ""
            },
            "colorscale": [
             [
              0,
              "#0d0887"
             ],
             [
              0.1111111111111111,
              "#46039f"
             ],
             [
              0.2222222222222222,
              "#7201a8"
             ],
             [
              0.3333333333333333,
              "#9c179e"
             ],
             [
              0.4444444444444444,
              "#bd3786"
             ],
             [
              0.5555555555555556,
              "#d8576b"
             ],
             [
              0.6666666666666666,
              "#ed7953"
             ],
             [
              0.7777777777777778,
              "#fb9f3a"
             ],
             [
              0.8888888888888888,
              "#fdca26"
             ],
             [
              1,
              "#f0f921"
             ]
            ],
            "type": "heatmapgl"
           }
          ],
          "histogram": [
           {
            "marker": {
             "pattern": {
              "fillmode": "overlay",
              "size": 10,
              "solidity": 0.2
             }
            },
            "type": "histogram"
           }
          ],
          "histogram2d": [
           {
            "colorbar": {
             "outlinewidth": 0,
             "ticks": ""
            },
            "colorscale": [
             [
              0,
              "#0d0887"
             ],
             [
              0.1111111111111111,
              "#46039f"
             ],
             [
              0.2222222222222222,
              "#7201a8"
             ],
             [
              0.3333333333333333,
              "#9c179e"
             ],
             [
              0.4444444444444444,
              "#bd3786"
             ],
             [
              0.5555555555555556,
              "#d8576b"
             ],
             [
              0.6666666666666666,
              "#ed7953"
             ],
             [
              0.7777777777777778,
              "#fb9f3a"
             ],
             [
              0.8888888888888888,
              "#fdca26"
             ],
             [
              1,
              "#f0f921"
             ]
            ],
            "type": "histogram2d"
           }
          ],
          "histogram2dcontour": [
           {
            "colorbar": {
             "outlinewidth": 0,
             "ticks": ""
            },
            "colorscale": [
             [
              0,
              "#0d0887"
             ],
             [
              0.1111111111111111,
              "#46039f"
             ],
             [
              0.2222222222222222,
              "#7201a8"
             ],
             [
              0.3333333333333333,
              "#9c179e"
             ],
             [
              0.4444444444444444,
              "#bd3786"
             ],
             [
              0.5555555555555556,
              "#d8576b"
             ],
             [
              0.6666666666666666,
              "#ed7953"
             ],
             [
              0.7777777777777778,
              "#fb9f3a"
             ],
             [
              0.8888888888888888,
              "#fdca26"
             ],
             [
              1,
              "#f0f921"
             ]
            ],
            "type": "histogram2dcontour"
           }
          ],
          "mesh3d": [
           {
            "colorbar": {
             "outlinewidth": 0,
             "ticks": ""
            },
            "type": "mesh3d"
           }
          ],
          "parcoords": [
           {
            "line": {
             "colorbar": {
              "outlinewidth": 0,
              "ticks": ""
             }
            },
            "type": "parcoords"
           }
          ],
          "pie": [
           {
            "automargin": true,
            "type": "pie"
           }
          ],
          "scatter": [
           {
            "marker": {
             "colorbar": {
              "outlinewidth": 0,
              "ticks": ""
             }
            },
            "type": "scatter"
           }
          ],
          "scatter3d": [
           {
            "line": {
             "colorbar": {
              "outlinewidth": 0,
              "ticks": ""
             }
            },
            "marker": {
             "colorbar": {
              "outlinewidth": 0,
              "ticks": ""
             }
            },
            "type": "scatter3d"
           }
          ],
          "scattercarpet": [
           {
            "marker": {
             "colorbar": {
              "outlinewidth": 0,
              "ticks": ""
             }
            },
            "type": "scattercarpet"
           }
          ],
          "scattergeo": [
           {
            "marker": {
             "colorbar": {
              "outlinewidth": 0,
              "ticks": ""
             }
            },
            "type": "scattergeo"
           }
          ],
          "scattergl": [
           {
            "marker": {
             "colorbar": {
              "outlinewidth": 0,
              "ticks": ""
             }
            },
            "type": "scattergl"
           }
          ],
          "scattermapbox": [
           {
            "marker": {
             "colorbar": {
              "outlinewidth": 0,
              "ticks": ""
             }
            },
            "type": "scattermapbox"
           }
          ],
          "scatterpolar": [
           {
            "marker": {
             "colorbar": {
              "outlinewidth": 0,
              "ticks": ""
             }
            },
            "type": "scatterpolar"
           }
          ],
          "scatterpolargl": [
           {
            "marker": {
             "colorbar": {
              "outlinewidth": 0,
              "ticks": ""
             }
            },
            "type": "scatterpolargl"
           }
          ],
          "scatterternary": [
           {
            "marker": {
             "colorbar": {
              "outlinewidth": 0,
              "ticks": ""
             }
            },
            "type": "scatterternary"
           }
          ],
          "surface": [
           {
            "colorbar": {
             "outlinewidth": 0,
             "ticks": ""
            },
            "colorscale": [
             [
              0,
              "#0d0887"
             ],
             [
              0.1111111111111111,
              "#46039f"
             ],
             [
              0.2222222222222222,
              "#7201a8"
             ],
             [
              0.3333333333333333,
              "#9c179e"
             ],
             [
              0.4444444444444444,
              "#bd3786"
             ],
             [
              0.5555555555555556,
              "#d8576b"
             ],
             [
              0.6666666666666666,
              "#ed7953"
             ],
             [
              0.7777777777777778,
              "#fb9f3a"
             ],
             [
              0.8888888888888888,
              "#fdca26"
             ],
             [
              1,
              "#f0f921"
             ]
            ],
            "type": "surface"
           }
          ],
          "table": [
           {
            "cells": {
             "fill": {
              "color": "#EBF0F8"
             },
             "line": {
              "color": "white"
             }
            },
            "header": {
             "fill": {
              "color": "#C8D4E3"
             },
             "line": {
              "color": "white"
             }
            },
            "type": "table"
           }
          ]
         },
         "layout": {
          "annotationdefaults": {
           "arrowcolor": "#2a3f5f",
           "arrowhead": 0,
           "arrowwidth": 1
          },
          "autotypenumbers": "strict",
          "coloraxis": {
           "colorbar": {
            "outlinewidth": 0,
            "ticks": ""
           }
          },
          "colorscale": {
           "diverging": [
            [
             0,
             "#8e0152"
            ],
            [
             0.1,
             "#c51b7d"
            ],
            [
             0.2,
             "#de77ae"
            ],
            [
             0.3,
             "#f1b6da"
            ],
            [
             0.4,
             "#fde0ef"
            ],
            [
             0.5,
             "#f7f7f7"
            ],
            [
             0.6,
             "#e6f5d0"
            ],
            [
             0.7,
             "#b8e186"
            ],
            [
             0.8,
             "#7fbc41"
            ],
            [
             0.9,
             "#4d9221"
            ],
            [
             1,
             "#276419"
            ]
           ],
           "sequential": [
            [
             0,
             "#0d0887"
            ],
            [
             0.1111111111111111,
             "#46039f"
            ],
            [
             0.2222222222222222,
             "#7201a8"
            ],
            [
             0.3333333333333333,
             "#9c179e"
            ],
            [
             0.4444444444444444,
             "#bd3786"
            ],
            [
             0.5555555555555556,
             "#d8576b"
            ],
            [
             0.6666666666666666,
             "#ed7953"
            ],
            [
             0.7777777777777778,
             "#fb9f3a"
            ],
            [
             0.8888888888888888,
             "#fdca26"
            ],
            [
             1,
             "#f0f921"
            ]
           ],
           "sequentialminus": [
            [
             0,
             "#0d0887"
            ],
            [
             0.1111111111111111,
             "#46039f"
            ],
            [
             0.2222222222222222,
             "#7201a8"
            ],
            [
             0.3333333333333333,
             "#9c179e"
            ],
            [
             0.4444444444444444,
             "#bd3786"
            ],
            [
             0.5555555555555556,
             "#d8576b"
            ],
            [
             0.6666666666666666,
             "#ed7953"
            ],
            [
             0.7777777777777778,
             "#fb9f3a"
            ],
            [
             0.8888888888888888,
             "#fdca26"
            ],
            [
             1,
             "#f0f921"
            ]
           ]
          },
          "colorway": [
           "#636efa",
           "#EF553B",
           "#00cc96",
           "#ab63fa",
           "#FFA15A",
           "#19d3f3",
           "#FF6692",
           "#B6E880",
           "#FF97FF",
           "#FECB52"
          ],
          "font": {
           "color": "#2a3f5f"
          },
          "geo": {
           "bgcolor": "white",
           "lakecolor": "white",
           "landcolor": "#E5ECF6",
           "showlakes": true,
           "showland": true,
           "subunitcolor": "white"
          },
          "hoverlabel": {
           "align": "left"
          },
          "hovermode": "closest",
          "mapbox": {
           "style": "light"
          },
          "paper_bgcolor": "white",
          "plot_bgcolor": "#E5ECF6",
          "polar": {
           "angularaxis": {
            "gridcolor": "white",
            "linecolor": "white",
            "ticks": ""
           },
           "bgcolor": "#E5ECF6",
           "radialaxis": {
            "gridcolor": "white",
            "linecolor": "white",
            "ticks": ""
           }
          },
          "scene": {
           "xaxis": {
            "backgroundcolor": "#E5ECF6",
            "gridcolor": "white",
            "gridwidth": 2,
            "linecolor": "white",
            "showbackground": true,
            "ticks": "",
            "zerolinecolor": "white"
           },
           "yaxis": {
            "backgroundcolor": "#E5ECF6",
            "gridcolor": "white",
            "gridwidth": 2,
            "linecolor": "white",
            "showbackground": true,
            "ticks": "",
            "zerolinecolor": "white"
           },
           "zaxis": {
            "backgroundcolor": "#E5ECF6",
            "gridcolor": "white",
            "gridwidth": 2,
            "linecolor": "white",
            "showbackground": true,
            "ticks": "",
            "zerolinecolor": "white"
           }
          },
          "shapedefaults": {
           "line": {
            "color": "#2a3f5f"
           }
          },
          "ternary": {
           "aaxis": {
            "gridcolor": "white",
            "linecolor": "white",
            "ticks": ""
           },
           "baxis": {
            "gridcolor": "white",
            "linecolor": "white",
            "ticks": ""
           },
           "bgcolor": "#E5ECF6",
           "caxis": {
            "gridcolor": "white",
            "linecolor": "white",
            "ticks": ""
           }
          },
          "title": {
           "x": 0.05
          },
          "xaxis": {
           "automargin": true,
           "gridcolor": "white",
           "linecolor": "white",
           "ticks": "",
           "title": {
            "standoff": 15
           },
           "zerolinecolor": "white",
           "zerolinewidth": 2
          },
          "yaxis": {
           "automargin": true,
           "gridcolor": "white",
           "linecolor": "white",
           "ticks": "",
           "title": {
            "standoff": 15
           },
           "zerolinecolor": "white",
           "zerolinewidth": 2
          }
         }
        },
        "title": {
         "text": "Distribution of Fetal Health"
        }
       }
      },
      "text/html": [
       "<div>                            <div id=\"98f90066-c73b-4bcd-9862-ede022cd6d6e\" class=\"plotly-graph-div\" style=\"height:525px; width:100%;\"></div>            <script type=\"text/javascript\">                require([\"plotly\"], function(Plotly) {                    window.PLOTLYENV=window.PLOTLYENV || {};                                    if (document.getElementById(\"98f90066-c73b-4bcd-9862-ede022cd6d6e\")) {                    Plotly.newPlot(                        \"98f90066-c73b-4bcd-9862-ede022cd6d6e\",                        [{\"customdata\":[[\"Normal\"],[\"Suspect\"],[\"Pathological\"]],\"domain\":{\"x\":[0.0,1.0],\"y\":[0.0,1.0]},\"hovertemplate\":\"label=%{label}<br>value=%{value}<br>color=%{customdata[0]}<extra></extra>\",\"labels\":[\"Normal\",\"Suspect\",\"Pathological\"],\"legendgroup\":\"\",\"marker\":{\"colors\":[\"#FF9999\",\"#66B2FF\",\"#99FF99\"]},\"name\":\"\",\"showlegend\":true,\"type\":\"pie\",\"values\":[1655,295,176]}],                        {\"font\":{\"color\":\"black\",\"family\":\"Arial\",\"size\":12},\"legend\":{\"tracegroupgap\":0},\"piecolorway\":[\"#FF9999\",\"#66B2FF\",\"#99FF99\"],\"plot_bgcolor\":\"white\",\"template\":{\"data\":{\"bar\":[{\"error_x\":{\"color\":\"#2a3f5f\"},\"error_y\":{\"color\":\"#2a3f5f\"},\"marker\":{\"line\":{\"color\":\"#E5ECF6\",\"width\":0.5},\"pattern\":{\"fillmode\":\"overlay\",\"size\":10,\"solidity\":0.2}},\"type\":\"bar\"}],\"barpolar\":[{\"marker\":{\"line\":{\"color\":\"#E5ECF6\",\"width\":0.5},\"pattern\":{\"fillmode\":\"overlay\",\"size\":10,\"solidity\":0.2}},\"type\":\"barpolar\"}],\"carpet\":[{\"aaxis\":{\"endlinecolor\":\"#2a3f5f\",\"gridcolor\":\"white\",\"linecolor\":\"white\",\"minorgridcolor\":\"white\",\"startlinecolor\":\"#2a3f5f\"},\"baxis\":{\"endlinecolor\":\"#2a3f5f\",\"gridcolor\":\"white\",\"linecolor\":\"white\",\"minorgridcolor\":\"white\",\"startlinecolor\":\"#2a3f5f\"},\"type\":\"carpet\"}],\"choropleth\":[{\"colorbar\":{\"outlinewidth\":0,\"ticks\":\"\"},\"type\":\"choropleth\"}],\"contour\":[{\"colorbar\":{\"outlinewidth\":0,\"ticks\":\"\"},\"colorscale\":[[0.0,\"#0d0887\"],[0.1111111111111111,\"#46039f\"],[0.2222222222222222,\"#7201a8\"],[0.3333333333333333,\"#9c179e\"],[0.4444444444444444,\"#bd3786\"],[0.5555555555555556,\"#d8576b\"],[0.6666666666666666,\"#ed7953\"],[0.7777777777777778,\"#fb9f3a\"],[0.8888888888888888,\"#fdca26\"],[1.0,\"#f0f921\"]],\"type\":\"contour\"}],\"contourcarpet\":[{\"colorbar\":{\"outlinewidth\":0,\"ticks\":\"\"},\"type\":\"contourcarpet\"}],\"heatmap\":[{\"colorbar\":{\"outlinewidth\":0,\"ticks\":\"\"},\"colorscale\":[[0.0,\"#0d0887\"],[0.1111111111111111,\"#46039f\"],[0.2222222222222222,\"#7201a8\"],[0.3333333333333333,\"#9c179e\"],[0.4444444444444444,\"#bd3786\"],[0.5555555555555556,\"#d8576b\"],[0.6666666666666666,\"#ed7953\"],[0.7777777777777778,\"#fb9f3a\"],[0.8888888888888888,\"#fdca26\"],[1.0,\"#f0f921\"]],\"type\":\"heatmap\"}],\"heatmapgl\":[{\"colorbar\":{\"outlinewidth\":0,\"ticks\":\"\"},\"colorscale\":[[0.0,\"#0d0887\"],[0.1111111111111111,\"#46039f\"],[0.2222222222222222,\"#7201a8\"],[0.3333333333333333,\"#9c179e\"],[0.4444444444444444,\"#bd3786\"],[0.5555555555555556,\"#d8576b\"],[0.6666666666666666,\"#ed7953\"],[0.7777777777777778,\"#fb9f3a\"],[0.8888888888888888,\"#fdca26\"],[1.0,\"#f0f921\"]],\"type\":\"heatmapgl\"}],\"histogram\":[{\"marker\":{\"pattern\":{\"fillmode\":\"overlay\",\"size\":10,\"solidity\":0.2}},\"type\":\"histogram\"}],\"histogram2d\":[{\"colorbar\":{\"outlinewidth\":0,\"ticks\":\"\"},\"colorscale\":[[0.0,\"#0d0887\"],[0.1111111111111111,\"#46039f\"],[0.2222222222222222,\"#7201a8\"],[0.3333333333333333,\"#9c179e\"],[0.4444444444444444,\"#bd3786\"],[0.5555555555555556,\"#d8576b\"],[0.6666666666666666,\"#ed7953\"],[0.7777777777777778,\"#fb9f3a\"],[0.8888888888888888,\"#fdca26\"],[1.0,\"#f0f921\"]],\"type\":\"histogram2d\"}],\"histogram2dcontour\":[{\"colorbar\":{\"outlinewidth\":0,\"ticks\":\"\"},\"colorscale\":[[0.0,\"#0d0887\"],[0.1111111111111111,\"#46039f\"],[0.2222222222222222,\"#7201a8\"],[0.3333333333333333,\"#9c179e\"],[0.4444444444444444,\"#bd3786\"],[0.5555555555555556,\"#d8576b\"],[0.6666666666666666,\"#ed7953\"],[0.7777777777777778,\"#fb9f3a\"],[0.8888888888888888,\"#fdca26\"],[1.0,\"#f0f921\"]],\"type\":\"histogram2dcontour\"}],\"mesh3d\":[{\"colorbar\":{\"outlinewidth\":0,\"ticks\":\"\"},\"type\":\"mesh3d\"}],\"parcoords\":[{\"line\":{\"colorbar\":{\"outlinewidth\":0,\"ticks\":\"\"}},\"type\":\"parcoords\"}],\"pie\":[{\"automargin\":true,\"type\":\"pie\"}],\"scatter\":[{\"marker\":{\"colorbar\":{\"outlinewidth\":0,\"ticks\":\"\"}},\"type\":\"scatter\"}],\"scatter3d\":[{\"line\":{\"colorbar\":{\"outlinewidth\":0,\"ticks\":\"\"}},\"marker\":{\"colorbar\":{\"outlinewidth\":0,\"ticks\":\"\"}},\"type\":\"scatter3d\"}],\"scattercarpet\":[{\"marker\":{\"colorbar\":{\"outlinewidth\":0,\"ticks\":\"\"}},\"type\":\"scattercarpet\"}],\"scattergeo\":[{\"marker\":{\"colorbar\":{\"outlinewidth\":0,\"ticks\":\"\"}},\"type\":\"scattergeo\"}],\"scattergl\":[{\"marker\":{\"colorbar\":{\"outlinewidth\":0,\"ticks\":\"\"}},\"type\":\"scattergl\"}],\"scattermapbox\":[{\"marker\":{\"colorbar\":{\"outlinewidth\":0,\"ticks\":\"\"}},\"type\":\"scattermapbox\"}],\"scatterpolar\":[{\"marker\":{\"colorbar\":{\"outlinewidth\":0,\"ticks\":\"\"}},\"type\":\"scatterpolar\"}],\"scatterpolargl\":[{\"marker\":{\"colorbar\":{\"outlinewidth\":0,\"ticks\":\"\"}},\"type\":\"scatterpolargl\"}],\"scatterternary\":[{\"marker\":{\"colorbar\":{\"outlinewidth\":0,\"ticks\":\"\"}},\"type\":\"scatterternary\"}],\"surface\":[{\"colorbar\":{\"outlinewidth\":0,\"ticks\":\"\"},\"colorscale\":[[0.0,\"#0d0887\"],[0.1111111111111111,\"#46039f\"],[0.2222222222222222,\"#7201a8\"],[0.3333333333333333,\"#9c179e\"],[0.4444444444444444,\"#bd3786\"],[0.5555555555555556,\"#d8576b\"],[0.6666666666666666,\"#ed7953\"],[0.7777777777777778,\"#fb9f3a\"],[0.8888888888888888,\"#fdca26\"],[1.0,\"#f0f921\"]],\"type\":\"surface\"}],\"table\":[{\"cells\":{\"fill\":{\"color\":\"#EBF0F8\"},\"line\":{\"color\":\"white\"}},\"header\":{\"fill\":{\"color\":\"#C8D4E3\"},\"line\":{\"color\":\"white\"}},\"type\":\"table\"}]},\"layout\":{\"annotationdefaults\":{\"arrowcolor\":\"#2a3f5f\",\"arrowhead\":0,\"arrowwidth\":1},\"autotypenumbers\":\"strict\",\"coloraxis\":{\"colorbar\":{\"outlinewidth\":0,\"ticks\":\"\"}},\"colorscale\":{\"diverging\":[[0,\"#8e0152\"],[0.1,\"#c51b7d\"],[0.2,\"#de77ae\"],[0.3,\"#f1b6da\"],[0.4,\"#fde0ef\"],[0.5,\"#f7f7f7\"],[0.6,\"#e6f5d0\"],[0.7,\"#b8e186\"],[0.8,\"#7fbc41\"],[0.9,\"#4d9221\"],[1,\"#276419\"]],\"sequential\":[[0.0,\"#0d0887\"],[0.1111111111111111,\"#46039f\"],[0.2222222222222222,\"#7201a8\"],[0.3333333333333333,\"#9c179e\"],[0.4444444444444444,\"#bd3786\"],[0.5555555555555556,\"#d8576b\"],[0.6666666666666666,\"#ed7953\"],[0.7777777777777778,\"#fb9f3a\"],[0.8888888888888888,\"#fdca26\"],[1.0,\"#f0f921\"]],\"sequentialminus\":[[0.0,\"#0d0887\"],[0.1111111111111111,\"#46039f\"],[0.2222222222222222,\"#7201a8\"],[0.3333333333333333,\"#9c179e\"],[0.4444444444444444,\"#bd3786\"],[0.5555555555555556,\"#d8576b\"],[0.6666666666666666,\"#ed7953\"],[0.7777777777777778,\"#fb9f3a\"],[0.8888888888888888,\"#fdca26\"],[1.0,\"#f0f921\"]]},\"colorway\":[\"#636efa\",\"#EF553B\",\"#00cc96\",\"#ab63fa\",\"#FFA15A\",\"#19d3f3\",\"#FF6692\",\"#B6E880\",\"#FF97FF\",\"#FECB52\"],\"font\":{\"color\":\"#2a3f5f\"},\"geo\":{\"bgcolor\":\"white\",\"lakecolor\":\"white\",\"landcolor\":\"#E5ECF6\",\"showlakes\":true,\"showland\":true,\"subunitcolor\":\"white\"},\"hoverlabel\":{\"align\":\"left\"},\"hovermode\":\"closest\",\"mapbox\":{\"style\":\"light\"},\"paper_bgcolor\":\"white\",\"plot_bgcolor\":\"#E5ECF6\",\"polar\":{\"angularaxis\":{\"gridcolor\":\"white\",\"linecolor\":\"white\",\"ticks\":\"\"},\"bgcolor\":\"#E5ECF6\",\"radialaxis\":{\"gridcolor\":\"white\",\"linecolor\":\"white\",\"ticks\":\"\"}},\"scene\":{\"xaxis\":{\"backgroundcolor\":\"#E5ECF6\",\"gridcolor\":\"white\",\"gridwidth\":2,\"linecolor\":\"white\",\"showbackground\":true,\"ticks\":\"\",\"zerolinecolor\":\"white\"},\"yaxis\":{\"backgroundcolor\":\"#E5ECF6\",\"gridcolor\":\"white\",\"gridwidth\":2,\"linecolor\":\"white\",\"showbackground\":true,\"ticks\":\"\",\"zerolinecolor\":\"white\"},\"zaxis\":{\"backgroundcolor\":\"#E5ECF6\",\"gridcolor\":\"white\",\"gridwidth\":2,\"linecolor\":\"white\",\"showbackground\":true,\"ticks\":\"\",\"zerolinecolor\":\"white\"}},\"shapedefaults\":{\"line\":{\"color\":\"#2a3f5f\"}},\"ternary\":{\"aaxis\":{\"gridcolor\":\"white\",\"linecolor\":\"white\",\"ticks\":\"\"},\"baxis\":{\"gridcolor\":\"white\",\"linecolor\":\"white\",\"ticks\":\"\"},\"bgcolor\":\"#E5ECF6\",\"caxis\":{\"gridcolor\":\"white\",\"linecolor\":\"white\",\"ticks\":\"\"}},\"title\":{\"x\":0.05},\"xaxis\":{\"automargin\":true,\"gridcolor\":\"white\",\"linecolor\":\"white\",\"ticks\":\"\",\"title\":{\"standoff\":15},\"zerolinecolor\":\"white\",\"zerolinewidth\":2},\"yaxis\":{\"automargin\":true,\"gridcolor\":\"white\",\"linecolor\":\"white\",\"ticks\":\"\",\"title\":{\"standoff\":15},\"zerolinecolor\":\"white\",\"zerolinewidth\":2}}},\"title\":{\"text\":\"Distribution of Fetal Health\"}},                        {\"responsive\": true}                    ).then(function(){\n",
       "                            \n",
       "var gd = document.getElementById('98f90066-c73b-4bcd-9862-ede022cd6d6e');\n",
       "var x = new MutationObserver(function (mutations, observer) {{\n",
       "        var display = window.getComputedStyle(gd).display;\n",
       "        if (!display || display === 'none') {{\n",
       "            console.log([gd, 'removed!']);\n",
       "            Plotly.purge(gd);\n",
       "            observer.disconnect();\n",
       "        }}\n",
       "}});\n",
       "\n",
       "// Listen for the removal of the full notebook cells\n",
       "var notebookContainer = gd.closest('#notebook-container');\n",
       "if (notebookContainer) {{\n",
       "    x.observe(notebookContainer, {childList: true});\n",
       "}}\n",
       "\n",
       "// Listen for the clearing of the current output cell\n",
       "var outputEl = gd.closest('.output');\n",
       "if (outputEl) {{\n",
       "    x.observe(outputEl, {childList: true});\n",
       "}}\n",
       "\n",
       "                        })                };                });            </script>        </div>"
      ]
     },
     "metadata": {},
     "output_type": "display_data"
    }
   ],
   "source": [
    "import plotly.express as px\n",
    "\n",
    "# Assuming df is your DataFrame and 'fetal_health' is the column name\n",
    "value_counts = df['fetal_health'].value_counts()\n",
    "\n",
    "# Create a dictionary to map category codes to labels\n",
    "category_labels = {1: 'Normal', 2: 'Suspect', 3: 'Pathological'}\n",
    "\n",
    "# Map category codes to labels in the 'names' parameter\n",
    "fig = px.pie(names=value_counts.index.map(category_labels), \n",
    "             values=value_counts.values,\n",
    "             title='Distribution of Fetal Health',\n",
    "             color=value_counts.index.map(category_labels),\n",
    "             color_discrete_sequence=['#FF9999', '#66B2FF', '#99FF99'],  # Choose elegant colors  # Choose elegant colors\n",
    "             )\n",
    "\n",
    "# Customize the layout\n",
    "fig.update_layout(\n",
    "    font=dict(family='Arial', size=12, color='black'),  # Change font properties as needed\n",
    "    plot_bgcolor='white',  # Change plot background color\n",
    ")\n",
    "\n",
    "fig.show()\n"
   ]
  },
  {
   "cell_type": "markdown",
   "metadata": {},
   "source": [
    "**The majority of the target variables fall into the \"Normal\" category, constituting approximately 77.8% of the dataset. \"Suspect\" cases follow at 13.90%, while \"Pathological\" instances account for 8.28%. The distribution suggests a predominantly healthy dataset, with a relatively small proportion of cases requiring further scrutiny.**\n",
    "\n",
    "\n",
    "\n",
    "\n",
    "\n"
   ]
  },
  {
   "cell_type": "markdown",
   "metadata": {},
   "source": [
    "## Data  Pre - processing  "
   ]
  },
  {
   "cell_type": "code",
   "execution_count": 50,
   "metadata": {},
   "outputs": [
    {
     "name": "stdout",
     "output_type": "stream",
     "text": [
      "baseline value                                            0\n",
      "accelerations                                             0\n",
      "fetal_movement                                            0\n",
      "uterine_contractions                                      0\n",
      "light_decelerations                                       0\n",
      "severe_decelerations                                      0\n",
      "prolongued_decelerations                                  0\n",
      "abnormal_short_term_variability                           0\n",
      "mean_value_of_short_term_variability                      0\n",
      "percentage_of_time_with_abnormal_long_term_variability    0\n",
      "mean_value_of_long_term_variability                       0\n",
      "histogram_width                                           0\n",
      "histogram_min                                             0\n",
      "histogram_max                                             0\n",
      "histogram_number_of_peaks                                 0\n",
      "histogram_number_of_zeroes                                0\n",
      "histogram_mode                                            0\n",
      "histogram_mean                                            0\n",
      "histogram_median                                          0\n",
      "histogram_variance                                        0\n",
      "histogram_tendency                                        0\n",
      "fetal_health                                              0\n",
      "dtype: int64\n"
     ]
    }
   ],
   "source": [
    "missing_values = df.isnull().sum()\n",
    "\n",
    "# Display the count of missing values for each column\n",
    "print(missing_values)"
   ]
  },
  {
   "cell_type": "markdown",
   "metadata": {},
   "source": [
    "* The dataset comprises 22 attributes with a total of 2126 observations, and there are no missing values.\n",
    "* All data types in the dataset are numeric, represented as float values."
   ]
  },
  {
   "cell_type": "markdown",
   "metadata": {},
   "source": [
    "### Feature description ([source](https://www.ncbi.nlm.nih.gov/pmc/articles/PMC6822315/)):\n",
    "1. baseline value: Fetal heart rate baseline (beats per minute)\n",
    "2. accelerations: Number of accelerations per second\n",
    "3. fetal_movement: Number of fetal movements per second\n",
    "4. uterine_contractions: Number of uterine contractions per second\n",
    "5. light_decelerations: Number of light decelerations per second\n",
    "6. severe_decelerations: Number of severe decelerations per second\n",
    "7. prolongued_decelerations: Number of prolonged decelerations per second\n",
    "8. abnormal_short_term_variability: Percentage of time with abnormal short-term variability\n",
    "9. mean_value_of_short_term_variability: Mean value of short-term variability\n",
    "10. percentage_of_time_with_abnormal_long_term_variability: Percentage of time with abnormal long-term variability\n",
    "11. mean_value_of_long_term_variability: Mean value of long-term variability\n",
    "12. histogram_width: Width of FHR histogram\n",
    "13. histogram_min: Minimum of FHR histogram\n",
    "14. histogram_max: Maximum of FHR histogram\n",
    "15. histogram_number_of_peaks: Number of FHR histogram peaks\n",
    "16. histogram_number_of_zeroes: Number of FHR histogram zeroes\n",
    "17. histogram_mode: FHR histogram mode\n",
    "18. histogram_mean: FHR histogram mean\n",
    "19. histogram_median: FHR histogram median\n",
    "20. histogram_variance: FHR histogram variance\n",
    "21. histogram_tendency: FHR histogram tendency\n",
    "\n",
    "**Target Variable:** \n",
    "\n",
    "22. fetal_health: Fetal state class code (1=Normal, 2=Suspected, 3=Pathological)"
   ]
  },
  {
   "cell_type": "markdown",
   "metadata": {},
   "source": [
    "### Handling duplicated rows"
   ]
  },
  {
   "cell_type": "code",
   "execution_count": 52,
   "metadata": {
    "execution": {
     "iopub.execute_input": "2023-11-13T15:51:53.125178Z",
     "iopub.status.busy": "2023-11-13T15:51:53.124834Z",
     "iopub.status.idle": "2023-11-13T15:51:53.141065Z",
     "shell.execute_reply": "2023-11-13T15:51:53.139857Z",
     "shell.execute_reply.started": "2023-11-13T15:51:53.125149Z"
    }
   },
   "outputs": [
    {
     "data": {
      "text/plain": [
       "(2113, 22)"
      ]
     },
     "execution_count": 52,
     "metadata": {},
     "output_type": "execute_result"
    }
   ],
   "source": [
    "# check shape before drop\n",
    "df.shape"
   ]
  },
  {
   "cell_type": "code",
   "execution_count": 57,
   "metadata": {
    "execution": {
     "iopub.execute_input": "2023-11-13T15:51:53.143934Z",
     "iopub.status.busy": "2023-11-13T15:51:53.142868Z",
     "iopub.status.idle": "2023-11-13T15:51:53.170087Z",
     "shell.execute_reply": "2023-11-13T15:51:53.168665Z",
     "shell.execute_reply.started": "2023-11-13T15:51:53.143870Z"
    }
   },
   "outputs": [
    {
     "name": "stdout",
     "output_type": "stream",
     "text": [
      "Number of rows after removing duplicates is 2113.\n"
     ]
    }
   ],
   "source": [
    "# drop duplicated row\n",
    "df = df.drop_duplicates()\n",
    "\n",
    "# Confirm the removal of duplicated rows\n",
    "print(f\"Number of rows after removing duplicates is {len(df)}.\")"
   ]
  },
  {
   "cell_type": "markdown",
   "metadata": {},
   "source": [
    "### Handling outlier"
   ]
  },
  {
   "cell_type": "code",
   "execution_count": 65,
   "metadata": {},
   "outputs": [
    {
     "data": {
      "image/png": "[encoded data removed]",
      "text/plain": [
       "<Figure size 1000x1200 with 22 Axes>"
      ]
     },
     "metadata": {},
     "output_type": "display_data"
    }
   ],
   "source": [
    "# Handling outlier for numeric attributes \n",
    "# Create a 2x3 grid of subplots\n",
    "fig, axes = plt.subplots(6, 4, figsize=(10, 12))\n",
    "axes = axes.flatten()\n",
    "    \n",
    "# Create a boxplot for each continuous variable\n",
    "for i, column in enumerate(df.columns):\n",
    "    sns.boxplot(data=df, x=column, ax=axes[i])\n",
    "    axes[i].set_title(f\"{column}\", fontsize=10)\n",
    "    axes[i].set_xlabel(\"\")  # Remove x-axis title\n",
    "\n",
    "# Remove empty subplot\n",
    "for i in range(len(df.columns), len(axes)):\n",
    "    fig.delaxes(axes[i])\n",
    "\n",
    "# Adjust layout\n",
    "plt.tight_layout()\n",
    "plt.show()"
   ]
  },
  {
   "cell_type": "markdown",
   "metadata": {},
   "source": [
    "The boxplots reveal potential outliers in several attributes. Yet, after thorough evaluation by three expert obstetricians, these outliers may not signify anomalies in the clinical context. Instead, they might represent signals of fetal distress, maternal conditions, among other factors. Consequently, no corrective action is planned for values outside the boxplot range."
   ]
  },
  {
   "cell_type": "markdown",
   "metadata": {},
   "source": [
    "## Label encoding"
   ]
  },
  {
   "cell_type": "code",
   "execution_count": 9,
   "metadata": {
    "execution": {
     "iopub.execute_input": "2023-11-13T15:51:56.287994Z",
     "iopub.status.busy": "2023-11-13T15:51:56.287588Z",
     "iopub.status.idle": "2023-11-13T15:51:56.297351Z",
     "shell.execute_reply": "2023-11-13T15:51:56.296023Z",
     "shell.execute_reply.started": "2023-11-13T15:51:56.287962Z"
    }
   },
   "outputs": [],
   "source": [
    "# Convert target variable to discrete/interger\n",
    "df['fetal_health'] = df['fetal_health'].astype(int)"
   ]
  },
  {
   "cell_type": "markdown",
   "metadata": {},
   "source": [
    "## Data Splitting\n",
    "The dataset is divided into a 70-30 split for training and testing, respectively."
   ]
  },
  {
   "cell_type": "code",
   "execution_count": 10,
   "metadata": {
    "execution": {
     "iopub.execute_input": "2023-11-13T15:51:56.302832Z",
     "iopub.status.busy": "2023-11-13T15:51:56.301722Z",
     "iopub.status.idle": "2023-11-13T15:51:56.326859Z",
     "shell.execute_reply": "2023-11-13T15:51:56.325529Z",
     "shell.execute_reply.started": "2023-11-13T15:51:56.302795Z"
    }
   },
   "outputs": [],
   "source": [
    "df_features = df.drop(['fetal_health'], axis=1)\n",
    "df_target = df['fetal_health']\n",
    "\n",
    "# split df at 70-30 ratio\n",
    "X_train, X_test, y_train, y_test = train_test_split(df_features, df_target, test_size=0.3, random_state=123)"
   ]
  },
  {
   "cell_type": "markdown",
   "metadata": {},
   "source": [
    "## Data Transformation\n",
    "* Applied separately to the train_set and test_set.\n",
    "* Scaling and normalization are executed to bring all continuous variables onto a standardized scale, facilitating comparisons among variables with different units and ranges.\n",
    "* Transformation is applied to all features as they are numerical data.\n",
    "* Utilized formula: \n",
    "$x = \\frac{{x - \\text{{mean}}}}{{\\text{{stdev}}}}$\n"
   ]
  },
  {
   "cell_type": "code",
   "execution_count": 93,
   "metadata": {
    "execution": {
     "iopub.execute_input": "2023-11-13T15:51:56.328271Z",
     "iopub.status.busy": "2023-11-13T15:51:56.327931Z",
     "iopub.status.idle": "2023-11-13T15:51:56.346340Z",
     "shell.execute_reply": "2023-11-13T15:51:56.345182Z",
     "shell.execute_reply.started": "2023-11-13T15:51:56.328241Z"
    }
   },
   "outputs": [],
   "source": [
    "# Initialize the MinMaxScaler object\n",
    "scaler = MinMaxScaler()\n",
    "\n",
    "# Fit and transform the train_set & test_set, features only\n",
    "scaled_X_train = scaler.fit_transform(X_train)\n",
    "scaled_X_test = scaler.fit_transform(X_test)"
   ]
  },
  {
   "cell_type": "code",
   "execution_count": 95,
   "metadata": {
    "execution": {
     "iopub.execute_input": "2023-11-13T15:51:56.348411Z",
     "iopub.status.busy": "2023-11-13T15:51:56.348043Z",
     "iopub.status.idle": "2023-11-13T15:51:56.383835Z",
     "shell.execute_reply": "2023-11-13T15:51:56.382494Z",
     "shell.execute_reply.started": "2023-11-13T15:51:56.348367Z"
    }
   },
   "outputs": [
    {
     "data": {
      "text/html": [
       "<div>\n",
       "<style scoped>\n",
       "    .dataframe tbody tr th:only-of-type {\n",
       "        vertical-align: middle;\n",
       "    }\n",
       "\n",
       "    .dataframe tbody tr th {\n",
       "        vertical-align: top;\n",
       "    }\n",
       "\n",
       "    .dataframe thead th {\n",
       "        text-align: right;\n",
       "    }\n",
       "</style>\n",
       "<table border=\"1\" class=\"dataframe\">\n",
       "  <thead>\n",
       "    <tr style=\"text-align: right;\">\n",
       "      <th></th>\n",
       "      <th>baseline value</th>\n",
       "      <th>accelerations</th>\n",
       "      <th>fetal_movement</th>\n",
       "      <th>uterine_contractions</th>\n",
       "      <th>light_decelerations</th>\n",
       "      <th>severe_decelerations</th>\n",
       "      <th>prolongued_decelerations</th>\n",
       "      <th>abnormal_short_term_variability</th>\n",
       "      <th>mean_value_of_short_term_variability</th>\n",
       "      <th>percentage_of_time_with_abnormal_long_term_variability</th>\n",
       "      <th>...</th>\n",
       "      <th>histogram_width</th>\n",
       "      <th>histogram_min</th>\n",
       "      <th>histogram_max</th>\n",
       "      <th>histogram_number_of_peaks</th>\n",
       "      <th>histogram_number_of_zeroes</th>\n",
       "      <th>histogram_mode</th>\n",
       "      <th>histogram_mean</th>\n",
       "      <th>histogram_median</th>\n",
       "      <th>histogram_variance</th>\n",
       "      <th>histogram_tendency</th>\n",
       "    </tr>\n",
       "  </thead>\n",
       "  <tbody>\n",
       "    <tr>\n",
       "      <th>468</th>\n",
       "      <td>0.703704</td>\n",
       "      <td>0.000000</td>\n",
       "      <td>0.004158</td>\n",
       "      <td>0.133333</td>\n",
       "      <td>0.0</td>\n",
       "      <td>0.0</td>\n",
       "      <td>0.0</td>\n",
       "      <td>0.96</td>\n",
       "      <td>0.014706</td>\n",
       "      <td>0.373626</td>\n",
       "      <td>...</td>\n",
       "      <td>0.197740</td>\n",
       "      <td>0.759259</td>\n",
       "      <td>0.413793</td>\n",
       "      <td>0.111111</td>\n",
       "      <td>0.0</td>\n",
       "      <td>0.666667</td>\n",
       "      <td>0.642202</td>\n",
       "      <td>0.620370</td>\n",
       "      <td>0.000000</td>\n",
       "      <td>0.0</td>\n",
       "    </tr>\n",
       "    <tr>\n",
       "      <th>1143</th>\n",
       "      <td>0.296296</td>\n",
       "      <td>0.222222</td>\n",
       "      <td>0.000000</td>\n",
       "      <td>0.400000</td>\n",
       "      <td>0.4</td>\n",
       "      <td>0.0</td>\n",
       "      <td>0.0</td>\n",
       "      <td>0.12</td>\n",
       "      <td>0.220588</td>\n",
       "      <td>0.000000</td>\n",
       "      <td>...</td>\n",
       "      <td>0.372881</td>\n",
       "      <td>0.222222</td>\n",
       "      <td>0.181034</td>\n",
       "      <td>0.222222</td>\n",
       "      <td>0.0</td>\n",
       "      <td>0.579365</td>\n",
       "      <td>0.440367</td>\n",
       "      <td>0.444444</td>\n",
       "      <td>0.118959</td>\n",
       "      <td>1.0</td>\n",
       "    </tr>\n",
       "  </tbody>\n",
       "</table>\n",
       "<p>2 rows × 21 columns</p>\n",
       "</div>"
      ],
      "text/plain": [
       "      baseline value  accelerations  fetal_movement  uterine_contractions  \\\n",
       "468         0.703704       0.000000        0.004158              0.133333   \n",
       "1143        0.296296       0.222222        0.000000              0.400000   \n",
       "\n",
       "      light_decelerations  severe_decelerations  prolongued_decelerations  \\\n",
       "468                   0.0                   0.0                       0.0   \n",
       "1143                  0.4                   0.0                       0.0   \n",
       "\n",
       "      abnormal_short_term_variability  mean_value_of_short_term_variability  \\\n",
       "468                              0.96                              0.014706   \n",
       "1143                             0.12                              0.220588   \n",
       "\n",
       "      percentage_of_time_with_abnormal_long_term_variability  ...  \\\n",
       "468                                            0.373626       ...   \n",
       "1143                                           0.000000       ...   \n",
       "\n",
       "      histogram_width  histogram_min  histogram_max  \\\n",
       "468          0.197740       0.759259       0.413793   \n",
       "1143         0.372881       0.222222       0.181034   \n",
       "\n",
       "      histogram_number_of_peaks  histogram_number_of_zeroes  histogram_mode  \\\n",
       "468                    0.111111                         0.0        0.666667   \n",
       "1143                   0.222222                         0.0        0.579365   \n",
       "\n",
       "      histogram_mean  histogram_median  histogram_variance  histogram_tendency  \n",
       "468         0.642202          0.620370            0.000000                 0.0  \n",
       "1143        0.440367          0.444444            0.118959                 1.0  \n",
       "\n",
       "[2 rows x 21 columns]"
      ]
     },
     "execution_count": 95,
     "metadata": {},
     "output_type": "execute_result"
    }
   ],
   "source": [
    "scaled_X_train = pd.DataFrame(scaled_X_train, columns = X_train.columns, index=X_train.index)\n",
    "scaled_X_train.head(2)"
   ]
  },
  {
   "cell_type": "code",
   "execution_count": 96,
   "metadata": {
    "execution": {
     "iopub.execute_input": "2023-11-13T15:51:56.386199Z",
     "iopub.status.busy": "2023-11-13T15:51:56.385397Z",
     "iopub.status.idle": "2023-11-13T15:51:56.420990Z",
     "shell.execute_reply": "2023-11-13T15:51:56.419497Z",
     "shell.execute_reply.started": "2023-11-13T15:51:56.386149Z"
    }
   },
   "outputs": [
    {
     "data": {
      "text/html": [
       "<div>\n",
       "<style scoped>\n",
       "    .dataframe tbody tr th:only-of-type {\n",
       "        vertical-align: middle;\n",
       "    }\n",
       "\n",
       "    .dataframe tbody tr th {\n",
       "        vertical-align: top;\n",
       "    }\n",
       "\n",
       "    .dataframe thead th {\n",
       "        text-align: right;\n",
       "    }\n",
       "</style>\n",
       "<table border=\"1\" class=\"dataframe\">\n",
       "  <thead>\n",
       "    <tr style=\"text-align: right;\">\n",
       "      <th></th>\n",
       "      <th>baseline value</th>\n",
       "      <th>accelerations</th>\n",
       "      <th>fetal_movement</th>\n",
       "      <th>uterine_contractions</th>\n",
       "      <th>light_decelerations</th>\n",
       "      <th>severe_decelerations</th>\n",
       "      <th>prolongued_decelerations</th>\n",
       "      <th>abnormal_short_term_variability</th>\n",
       "      <th>mean_value_of_short_term_variability</th>\n",
       "      <th>percentage_of_time_with_abnormal_long_term_variability</th>\n",
       "      <th>...</th>\n",
       "      <th>histogram_width</th>\n",
       "      <th>histogram_min</th>\n",
       "      <th>histogram_max</th>\n",
       "      <th>histogram_number_of_peaks</th>\n",
       "      <th>histogram_number_of_zeroes</th>\n",
       "      <th>histogram_mode</th>\n",
       "      <th>histogram_mean</th>\n",
       "      <th>histogram_median</th>\n",
       "      <th>histogram_variance</th>\n",
       "      <th>histogram_tendency</th>\n",
       "    </tr>\n",
       "  </thead>\n",
       "  <tbody>\n",
       "    <tr>\n",
       "      <th>1542</th>\n",
       "      <td>0.716981</td>\n",
       "      <td>0.157895</td>\n",
       "      <td>0.000000</td>\n",
       "      <td>0.571429</td>\n",
       "      <td>0.0</td>\n",
       "      <td>0.0</td>\n",
       "      <td>0.0</td>\n",
       "      <td>0.507042</td>\n",
       "      <td>0.074627</td>\n",
       "      <td>0.065934</td>\n",
       "      <td>...</td>\n",
       "      <td>0.254335</td>\n",
       "      <td>0.642202</td>\n",
       "      <td>0.382609</td>\n",
       "      <td>0.1875</td>\n",
       "      <td>0.0</td>\n",
       "      <td>0.692913</td>\n",
       "      <td>0.737374</td>\n",
       "      <td>0.722772</td>\n",
       "      <td>0.012</td>\n",
       "      <td>0.5</td>\n",
       "    </tr>\n",
       "    <tr>\n",
       "      <th>753</th>\n",
       "      <td>0.452830</td>\n",
       "      <td>0.000000</td>\n",
       "      <td>0.002096</td>\n",
       "      <td>0.000000</td>\n",
       "      <td>0.0</td>\n",
       "      <td>0.0</td>\n",
       "      <td>0.0</td>\n",
       "      <td>0.619718</td>\n",
       "      <td>0.044776</td>\n",
       "      <td>0.362637</td>\n",
       "      <td>...</td>\n",
       "      <td>0.092486</td>\n",
       "      <td>0.688073</td>\n",
       "      <td>0.182609</td>\n",
       "      <td>0.1250</td>\n",
       "      <td>0.0</td>\n",
       "      <td>0.543307</td>\n",
       "      <td>0.555556</td>\n",
       "      <td>0.544554</td>\n",
       "      <td>0.008</td>\n",
       "      <td>0.0</td>\n",
       "    </tr>\n",
       "  </tbody>\n",
       "</table>\n",
       "<p>2 rows × 21 columns</p>\n",
       "</div>"
      ],
      "text/plain": [
       "      baseline value  accelerations  fetal_movement  uterine_contractions  \\\n",
       "1542        0.716981       0.157895        0.000000              0.571429   \n",
       "753         0.452830       0.000000        0.002096              0.000000   \n",
       "\n",
       "      light_decelerations  severe_decelerations  prolongued_decelerations  \\\n",
       "1542                  0.0                   0.0                       0.0   \n",
       "753                   0.0                   0.0                       0.0   \n",
       "\n",
       "      abnormal_short_term_variability  mean_value_of_short_term_variability  \\\n",
       "1542                         0.507042                              0.074627   \n",
       "753                          0.619718                              0.044776   \n",
       "\n",
       "      percentage_of_time_with_abnormal_long_term_variability  ...  \\\n",
       "1542                                           0.065934       ...   \n",
       "753                                            0.362637       ...   \n",
       "\n",
       "      histogram_width  histogram_min  histogram_max  \\\n",
       "1542         0.254335       0.642202       0.382609   \n",
       "753          0.092486       0.688073       0.182609   \n",
       "\n",
       "      histogram_number_of_peaks  histogram_number_of_zeroes  histogram_mode  \\\n",
       "1542                     0.1875                         0.0        0.692913   \n",
       "753                      0.1250                         0.0        0.543307   \n",
       "\n",
       "      histogram_mean  histogram_median  histogram_variance  histogram_tendency  \n",
       "1542        0.737374          0.722772               0.012                 0.5  \n",
       "753         0.555556          0.544554               0.008                 0.0  \n",
       "\n",
       "[2 rows x 21 columns]"
      ]
     },
     "execution_count": 96,
     "metadata": {},
     "output_type": "execute_result"
    }
   ],
   "source": [
    "scaled_X_test = pd.DataFrame(scaled_X_test, columns = X_test.columns, index=X_test.index)\n",
    "scaled_X_test.head(2)"
   ]
  },
  {
   "cell_type": "code",
   "execution_count": null,
   "metadata": {},
   "outputs": [],
   "source": []
  },
  {
   "cell_type": "markdown",
   "metadata": {},
   "source": [
    "# Modeling\n",
    "\n",
    "## Considered Modeling Algorithms:\n",
    "- Naive Bayes\n",
    "- Logistic Regression\n",
    "- Decision Tree\n",
    "- Random Forest with hyperparameter tuning\n",
    "- Support Vector Machines (SVM)\n",
    "- Gradient Boosting Classifier with hyperparameter tuning\n",
    "\n",
    "These algorithms are being explored to identify the most suitable model for the given task."
   ]
  },
  {
   "cell_type": "code",
   "execution_count": 100,
   "metadata": {},
   "outputs": [
    {
     "data": {
      "text/html": [
       "<style type=\"text/css\">\n",
       "#T_ff63c_ thead {\n",
       "  font-size: 18px;\n",
       "  color: darkblue;\n",
       "  background-color: lightgrey;\n",
       "}\n",
       "#T_ff63c_ th {\n",
       "  font-size: 16px;\n",
       "  color: black;\n",
       "  background-color: lightgrey;\n",
       "}\n",
       "#T_ff63c_ td {\n",
       "  font-size: 14px;\n",
       "}\n",
       "</style>\n",
       "<table id=\"T_ff63c_\">\n",
       "  <thead>\n",
       "    <tr>\n",
       "      <th class=\"blank level0\" >&nbsp;</th>\n",
       "      <th class=\"col_heading level0 col0\" >Model</th>\n",
       "      <th class=\"col_heading level0 col1\" >Time (s)</th>\n",
       "      <th class=\"col_heading level0 col2\" >Accuracy</th>\n",
       "      <th class=\"col_heading level0 col3\" >Precision</th>\n",
       "      <th class=\"col_heading level0 col4\" >Recall</th>\n",
       "      <th class=\"col_heading level0 col5\" >F1_Score</th>\n",
       "    </tr>\n",
       "  </thead>\n",
       "  <tbody>\n",
       "    <tr>\n",
       "      <th id=\"T_ff63c_level0_row0\" class=\"row_heading level0 row0\" >0</th>\n",
       "      <td id=\"T_ff63c_row0_col0\" class=\"data row0 col0\" >Random Forest</td>\n",
       "      <td id=\"T_ff63c_row0_col1\" class=\"data row0 col1\" >0.253015</td>\n",
       "      <td id=\"T_ff63c_row0_col2\" class=\"data row0 col2\" >0.936909</td>\n",
       "      <td id=\"T_ff63c_row0_col3\" class=\"data row0 col3\" >0.937571</td>\n",
       "      <td id=\"T_ff63c_row0_col4\" class=\"data row0 col4\" >0.936909</td>\n",
       "      <td id=\"T_ff63c_row0_col5\" class=\"data row0 col5\" >0.937222</td>\n",
       "    </tr>\n",
       "    <tr>\n",
       "      <th id=\"T_ff63c_level0_row1\" class=\"row_heading level0 row1\" >1</th>\n",
       "      <td id=\"T_ff63c_row1_col0\" class=\"data row1 col0\" >Logistic Regression</td>\n",
       "      <td id=\"T_ff63c_row1_col1\" class=\"data row1 col1\" >0.023286</td>\n",
       "      <td id=\"T_ff63c_row1_col2\" class=\"data row1 col2\" >0.897476</td>\n",
       "      <td id=\"T_ff63c_row1_col3\" class=\"data row1 col3\" >0.896898</td>\n",
       "      <td id=\"T_ff63c_row1_col4\" class=\"data row1 col4\" >0.897476</td>\n",
       "      <td id=\"T_ff63c_row1_col5\" class=\"data row1 col5\" >0.896012</td>\n",
       "    </tr>\n",
       "    <tr>\n",
       "      <th id=\"T_ff63c_level0_row2\" class=\"row_heading level0 row2\" >2</th>\n",
       "      <td id=\"T_ff63c_row2_col0\" class=\"data row2 col0\" >Naive Bayes</td>\n",
       "      <td id=\"T_ff63c_row2_col1\" class=\"data row2 col1\" >0.002660</td>\n",
       "      <td id=\"T_ff63c_row2_col2\" class=\"data row2 col2\" >0.723975</td>\n",
       "      <td id=\"T_ff63c_row2_col3\" class=\"data row2 col3\" >0.882384</td>\n",
       "      <td id=\"T_ff63c_row2_col4\" class=\"data row2 col4\" >0.723975</td>\n",
       "      <td id=\"T_ff63c_row2_col5\" class=\"data row2 col5\" >0.761609</td>\n",
       "    </tr>\n",
       "    <tr>\n",
       "      <th id=\"T_ff63c_level0_row3\" class=\"row_heading level0 row3\" >3</th>\n",
       "      <td id=\"T_ff63c_row3_col0\" class=\"data row3 col0\" >SVM</td>\n",
       "      <td id=\"T_ff63c_row3_col1\" class=\"data row3 col1\" >0.056045</td>\n",
       "      <td id=\"T_ff63c_row3_col2\" class=\"data row3 col2\" >0.917981</td>\n",
       "      <td id=\"T_ff63c_row3_col3\" class=\"data row3 col3\" >0.918238</td>\n",
       "      <td id=\"T_ff63c_row3_col4\" class=\"data row3 col4\" >0.917981</td>\n",
       "      <td id=\"T_ff63c_row3_col5\" class=\"data row3 col5\" >0.916987</td>\n",
       "    </tr>\n",
       "    <tr>\n",
       "      <th id=\"T_ff63c_level0_row4\" class=\"row_heading level0 row4\" >4</th>\n",
       "      <td id=\"T_ff63c_row4_col0\" class=\"data row4 col0\" >Gradient Boosting</td>\n",
       "      <td id=\"T_ff63c_row4_col1\" class=\"data row4 col1\" >0.895311</td>\n",
       "      <td id=\"T_ff63c_row4_col2\" class=\"data row4 col2\" >0.935331</td>\n",
       "      <td id=\"T_ff63c_row4_col3\" class=\"data row4 col3\" >0.938232</td>\n",
       "      <td id=\"T_ff63c_row4_col4\" class=\"data row4 col4\" >0.935331</td>\n",
       "      <td id=\"T_ff63c_row4_col5\" class=\"data row4 col5\" >0.936439</td>\n",
       "    </tr>\n",
       "    <tr>\n",
       "      <th id=\"T_ff63c_level0_row5\" class=\"row_heading level0 row5\" >5</th>\n",
       "      <td id=\"T_ff63c_row5_col0\" class=\"data row5 col0\" >Decision Tree</td>\n",
       "      <td id=\"T_ff63c_row5_col1\" class=\"data row5 col1\" >0.011241</td>\n",
       "      <td id=\"T_ff63c_row5_col2\" class=\"data row5 col2\" >0.891167</td>\n",
       "      <td id=\"T_ff63c_row5_col3\" class=\"data row5 col3\" >0.898603</td>\n",
       "      <td id=\"T_ff63c_row5_col4\" class=\"data row5 col4\" >0.891167</td>\n",
       "      <td id=\"T_ff63c_row5_col5\" class=\"data row5 col5\" >0.894013</td>\n",
       "    </tr>\n",
       "  </tbody>\n",
       "</table>\n"
      ],
      "text/plain": [
       "<pandas.io.formats.style.Styler at 0x7fc8f2e0c2e0>"
      ]
     },
     "execution_count": 100,
     "metadata": {},
     "output_type": "execute_result"
    }
   ],
   "source": [
    "#Import algorithms\n",
    "\n",
    "from sklearn.metrics import accuracy_score, precision_score, recall_score, f1_score\n",
    "from sklearn.ensemble import RandomForestClassifier, GradientBoostingClassifier\n",
    "from sklearn.linear_model import LogisticRegression\n",
    "from sklearn.naive_bayes import GaussianNB\n",
    "from sklearn.svm import SVC\n",
    "from sklearn.neighbors import KNeighborsClassifier\n",
    "from sklearn.tree import DecisionTreeClassifier\n",
    "from sklearn.preprocessing import StandardScaler\n",
    "import time\n",
    "\n",
    "# Assuming you have scaled_X_train, y_train, scaled_X_test, y_test\n",
    "\n",
    "# Initialize the classifiers\n",
    "classifiers = {\n",
    "    'Random Forest': RandomForestClassifier(),\n",
    "    'Logistic Regression': LogisticRegression(),\n",
    "    'Naive Bayes': GaussianNB(),\n",
    "    'SVM': SVC(),\n",
    "    'Gradient Boosting': GradientBoostingClassifier(),\n",
    "    'Decision Tree': DecisionTreeClassifier()\n",
    "}\n",
    "\n",
    "# Initialize the result summary table\n",
    "result_summary = {'Model': [], 'Time (s)': [], 'Accuracy': [], 'Precision': [], 'Recall': [], 'F1_Score': []}\n",
    "\n",
    "# Train and evaluate each classifier\n",
    "for name, classifier in classifiers.items():\n",
    "    # Record start time for training\n",
    "    start_time_train = time.time()\n",
    "\n",
    "    # Training\n",
    "    classifier.fit(scaled_X_train, y_train)\n",
    "\n",
    "    # Record end time for training\n",
    "    end_time_train = time.time()\n",
    "\n",
    "    # Record start time for prediction\n",
    "    start_time_pred = time.time()\n",
    "\n",
    "    # Predictions on the testing set\n",
    "    y_pred = classifier.predict(scaled_X_test)\n",
    "\n",
    "    # Record end time for prediction\n",
    "    end_time_pred = time.time()\n",
    "\n",
    "    # Calculate time taken for training and prediction\n",
    "    train_time = end_time_train - start_time_train\n",
    "    pred_time = end_time_pred - start_time_pred\n",
    "\n",
    "    # Evaluate performance metrics\n",
    "    accuracy = accuracy_score(y_test, y_pred)\n",
    "    precision = precision_score(y_test, y_pred, average='weighted')\n",
    "    recall = recall_score(y_test, y_pred, average='weighted')\n",
    "    f1 = f1_score(y_test, y_pred, average='weighted')\n",
    "\n",
    "    # Store results in the summary table\n",
    "    result_summary['Model'].append(name)\n",
    "    result_summary['Time (s)'].append(train_time + pred_time)\n",
    "    result_summary['Accuracy'].append(accuracy)\n",
    "    result_summary['Precision'].append(precision)\n",
    "    result_summary['Recall'].append(recall)\n",
    "    result_summary['F1_Score'].append(f1)\n",
    "\n",
    "# Display the result summary table\n",
    "import pandas as pd\n",
    "\n",
    "result_df = pd.DataFrame(result_summary)\n",
    "#print(result_df)\n",
    "\n",
    "# Display the result summary table with better styling\n",
    "result_df = pd.DataFrame(result_summary)\n",
    "styled_df = result_df.style.set_table_styles([\n",
    "    {'selector': 'thead',\n",
    "     'props': [\n",
    "         ('font-size', '18px'),\n",
    "         ('color', 'darkblue'),\n",
    "         ('background-color', 'lightgrey')\n",
    "     ]},\n",
    "    {'selector': 'th',\n",
    "     'props': [\n",
    "         ('font-size', '16px'),\n",
    "         ('color', 'black'),\n",
    "         ('background-color', 'lightgrey')\n",
    "     ]},\n",
    "    {'selector': 'td',\n",
    "     'props': [\n",
    "         ('font-size', '14px')\n",
    "     ]},\n",
    "])\n",
    "\n",
    "styled_df\n",
    "\n",
    "\n"
   ]
  },
  {
   "cell_type": "markdown",
   "metadata": {},
   "source": [
    "**Observation : Based on the provided results, it seems that \"Random Forest\" and \"Gradient Boosting\" are the top-performing classifiers based on F1-Score**"
   ]
  },
  {
   "cell_type": "markdown",
   "metadata": {},
   "source": [
    "### Hyper-parameter tunning of Random forest classifier "
   ]
  },
  {
   "cell_type": "code",
   "execution_count": 106,
   "metadata": {
    "scrolled": false
   },
   "outputs": [
    {
     "name": "stdout",
     "output_type": "stream",
     "text": [
      "Best Hyperparameters for Random Forest: {'max_depth': 40, 'max_features': 'sqrt', 'min_samples_leaf': 1, 'min_samples_split': 2, 'n_estimators': 150}\n"
     ]
    }
   ],
   "source": [
    "import warnings\n",
    "from sklearn.model_selection import GridSearchCV\n",
    "from sklearn.ensemble import RandomForestClassifier\n",
    "from sklearn.preprocessing import StandardScaler  # Assuming you have scaled_X_train, y_train\n",
    "from sklearn.exceptions import FitFailedWarning\n",
    "\n",
    "# Ignore FitFailedWarning\n",
    "warnings.filterwarnings(\"ignore\", category=FitFailedWarning)\n",
    "\n",
    "# Define the parameter grid for Random Forest\n",
    "param_grid_rf = {\n",
    "    'n_estimators': [50, 100, 150],\n",
    "    'max_depth': [None, 10, 20, 30, 40, 50],\n",
    "    'min_samples_split': [2, 5, 10],\n",
    "    'min_samples_leaf': [1, 2, 4],\n",
    "    'max_features': ['sqrt', 'log2', None],  # Remove 'auto'\n",
    "}\n",
    "\n",
    "# Initialize the Random Forest classifier\n",
    "random_forest = RandomForestClassifier()\n",
    "\n",
    "# Set max_features to 'auto' here if you want it to be the default\n",
    "random_forest.set_params(max_features='auto')\n",
    "\n",
    "# Create a GridSearchCV object for Random Forest\n",
    "grid_search_rf = GridSearchCV(\n",
    "    random_forest,\n",
    "    param_grid=param_grid_rf,\n",
    "    cv=5,\n",
    "    scoring='f1_weighted',\n",
    "    n_jobs=-1,\n",
    "    error_score='raise'  # Raise an error for non-finite scores\n",
    ")\n",
    "\n",
    "# Fit the GridSearchCV object to the training data for Random Forest\n",
    "grid_search_rf.fit(scaled_X_train, y_train)\n",
    "\n",
    "# Get the best hyperparameters for Random Forest\n",
    "best_params_rf = grid_search_rf.best_params_\n",
    "\n",
    "# Print the best hyperparameters for Random Forest\n",
    "print(\"Best Hyperparameters for Random Forest:\", best_params_rf)\n"
   ]
  },
  {
   "cell_type": "markdown",
   "metadata": {},
   "source": [
    "### Hyper-parameter tunning of Gradient Boosting Classifier"
   ]
  },
  {
   "cell_type": "code",
   "execution_count": 107,
   "metadata": {},
   "outputs": [
    {
     "name": "stdout",
     "output_type": "stream",
     "text": [
      "Best Hyperparameters for Gradient Boosting: {'learning_rate': 0.2, 'max_depth': 6, 'max_features': 'sqrt', 'min_samples_leaf': 2, 'min_samples_split': 5, 'n_estimators': 50}\n"
     ]
    }
   ],
   "source": [
    "import warnings\n",
    "from sklearn.model_selection import GridSearchCV\n",
    "from sklearn.ensemble import GradientBoostingClassifier\n",
    "from sklearn.preprocessing import StandardScaler  # Assuming you have scaled_X_train, y_train\n",
    "from sklearn.exceptions import FitFailedWarning\n",
    "\n",
    "# Ignore FitFailedWarning\n",
    "warnings.filterwarnings(\"ignore\", category=FitFailedWarning)\n",
    "\n",
    "# Define the parameter grid for Gradient Boosting\n",
    "param_grid_gb = {\n",
    "    'n_estimators': [50, 100, 150],\n",
    "    'learning_rate': [0.01, 0.1, 0.2],\n",
    "    'max_depth': [3, 4, 5, 6],\n",
    "    'min_samples_split': [2, 5, 10],\n",
    "    'min_samples_leaf': [1, 2, 4],\n",
    "    'max_features': ['sqrt', 'log2', None],  # Remove 'auto'\n",
    "}\n",
    "\n",
    "# Initialize the Gradient Boosting classifier\n",
    "gradient_boosting = GradientBoostingClassifier()\n",
    "\n",
    "# Set max_features to 'auto' here if you want it to be the default\n",
    "gradient_boosting.set_params(max_features='auto')\n",
    "\n",
    "# Create a GridSearchCV object for Gradient Boosting\n",
    "grid_search_gb = GridSearchCV(\n",
    "    gradient_boosting,\n",
    "    param_grid=param_grid_gb,\n",
    "    cv=5,\n",
    "    scoring='f1_weighted',\n",
    "    n_jobs=-1,\n",
    "    error_score='raise'  # Raise an error for non-finite scores\n",
    ")\n",
    "\n",
    "# Fit the GridSearchCV object to the training data for Gradient Boosting\n",
    "grid_search_gb.fit(scaled_X_train, y_train)\n",
    "\n",
    "# Get the best hyperparameters for Gradient Boosting\n",
    "best_params_gb = grid_search_gb.best_params_\n",
    "\n",
    "# Print the best hyperparameters for Gradient Boosting\n",
    "print(\"Best Hyperparameters for Gradient Boosting:\", best_params_gb)\n"
   ]
  },
  {
   "cell_type": "code",
   "execution_count": null,
   "metadata": {},
   "outputs": [],
   "source": []
  },
  {
   "cell_type": "markdown",
   "metadata": {},
   "source": [
    "### Model Performance after Hyper-parameter Tunning "
   ]
  },
  {
   "cell_type": "code",
   "execution_count": 111,
   "metadata": {
    "scrolled": true
   },
   "outputs": [
    {
     "data": {
      "text/html": [
       "<style type=\"text/css\">\n",
       "#T_03992_ thead {\n",
       "  font-size: 18px;\n",
       "  color: darkblue;\n",
       "  background-color: lightgrey;\n",
       "}\n",
       "#T_03992_ th {\n",
       "  font-size: 16px;\n",
       "  color: black;\n",
       "  background-color: lightgrey;\n",
       "}\n",
       "#T_03992_ td {\n",
       "  font-size: 14px;\n",
       "}\n",
       "</style>\n",
       "<table id=\"T_03992_\">\n",
       "  <thead>\n",
       "    <tr>\n",
       "      <th class=\"blank level0\" >&nbsp;</th>\n",
       "      <th class=\"col_heading level0 col0\" >Model</th>\n",
       "      <th class=\"col_heading level0 col1\" >Time (s)</th>\n",
       "      <th class=\"col_heading level0 col2\" >Accuracy</th>\n",
       "      <th class=\"col_heading level0 col3\" >Precision</th>\n",
       "      <th class=\"col_heading level0 col4\" >Recall</th>\n",
       "      <th class=\"col_heading level0 col5\" >F1_Score</th>\n",
       "    </tr>\n",
       "  </thead>\n",
       "  <tbody>\n",
       "    <tr>\n",
       "      <th id=\"T_03992_level0_row0\" class=\"row_heading level0 row0\" >0</th>\n",
       "      <td id=\"T_03992_row0_col0\" class=\"data row0 col0\" >Random Forest</td>\n",
       "      <td id=\"T_03992_row0_col1\" class=\"data row0 col1\" >0.263000</td>\n",
       "      <td id=\"T_03992_row0_col2\" class=\"data row0 col2\" >0.937000</td>\n",
       "      <td id=\"T_03992_row0_col3\" class=\"data row0 col3\" >0.938000</td>\n",
       "      <td id=\"T_03992_row0_col4\" class=\"data row0 col4\" >0.937000</td>\n",
       "      <td id=\"T_03992_row0_col5\" class=\"data row0 col5\" >0.937000</td>\n",
       "    </tr>\n",
       "    <tr>\n",
       "      <th id=\"T_03992_level0_row1\" class=\"row_heading level0 row1\" >1</th>\n",
       "      <td id=\"T_03992_row1_col0\" class=\"data row1 col0\" >Random Forest (Tuned)</td>\n",
       "      <td id=\"T_03992_row1_col1\" class=\"data row1 col1\" >0.377000</td>\n",
       "      <td id=\"T_03992_row1_col2\" class=\"data row1 col2\" >0.942000</td>\n",
       "      <td id=\"T_03992_row1_col3\" class=\"data row1 col3\" >0.943000</td>\n",
       "      <td id=\"T_03992_row1_col4\" class=\"data row1 col4\" >0.942000</td>\n",
       "      <td id=\"T_03992_row1_col5\" class=\"data row1 col5\" >0.942000</td>\n",
       "    </tr>\n",
       "    <tr>\n",
       "      <th id=\"T_03992_level0_row2\" class=\"row_heading level0 row2\" >2</th>\n",
       "      <td id=\"T_03992_row2_col0\" class=\"data row2 col0\" >Gradient Boosting</td>\n",
       "      <td id=\"T_03992_row2_col1\" class=\"data row2 col1\" >0.949000</td>\n",
       "      <td id=\"T_03992_row2_col2\" class=\"data row2 col2\" >0.935000</td>\n",
       "      <td id=\"T_03992_row2_col3\" class=\"data row2 col3\" >0.938000</td>\n",
       "      <td id=\"T_03992_row2_col4\" class=\"data row2 col4\" >0.935000</td>\n",
       "      <td id=\"T_03992_row2_col5\" class=\"data row2 col5\" >0.936000</td>\n",
       "    </tr>\n",
       "    <tr>\n",
       "      <th id=\"T_03992_level0_row3\" class=\"row_heading level0 row3\" >3</th>\n",
       "      <td id=\"T_03992_row3_col0\" class=\"data row3 col0\" >Gradient Boosting (Tuned)</td>\n",
       "      <td id=\"T_03992_row3_col1\" class=\"data row3 col1\" >0.363000</td>\n",
       "      <td id=\"T_03992_row3_col2\" class=\"data row3 col2\" >0.938000</td>\n",
       "      <td id=\"T_03992_row3_col3\" class=\"data row3 col3\" >0.940000</td>\n",
       "      <td id=\"T_03992_row3_col4\" class=\"data row3 col4\" >0.938000</td>\n",
       "      <td id=\"T_03992_row3_col5\" class=\"data row3 col5\" >0.939000</td>\n",
       "    </tr>\n",
       "  </tbody>\n",
       "</table>\n"
      ],
      "text/plain": [
       "<pandas.io.formats.style.Styler at 0x7fc8eea986d0>"
      ]
     },
     "execution_count": 111,
     "metadata": {},
     "output_type": "execute_result"
    }
   ],
   "source": [
    "from sklearn.metrics import accuracy_score, precision_score, recall_score, f1_score\n",
    "from sklearn.ensemble import RandomForestClassifier, GradientBoostingClassifier\n",
    "from sklearn.model_selection import GridSearchCV\n",
    "from sklearn.preprocessing import StandardScaler\n",
    "import time\n",
    "import pandas as pd\n",
    "\n",
    "\n",
    "# Initialize the classifiers\n",
    "classifiers = {\n",
    "    'Random Forest': RandomForestClassifier(),\n",
    "    'Random Forest (Tuned)': RandomForestClassifier(**best_params_rf),\n",
    "    'Gradient Boosting': GradientBoostingClassifier(),\n",
    "    'Gradient Boosting (Tuned)': GradientBoostingClassifier(**best_params_gb)\n",
    "}\n",
    "\n",
    "# Initialize the result summary table\n",
    "result_summary = {'Model': [], 'Time (s)': [], 'Accuracy': [], 'Precision': [], 'Recall': [], 'F1_Score': []}\n",
    "\n",
    "# Train and evaluate each classifier\n",
    "for name, classifier in classifiers.items():\n",
    "    # Record start time for training\n",
    "    start_time_train = time.time()\n",
    "\n",
    "    # Training\n",
    "    classifier.fit(scaled_X_train, y_train)\n",
    "\n",
    "    # Record end time for training\n",
    "    end_time_train = time.time()\n",
    "\n",
    "    # Record start time for prediction\n",
    "    start_time_pred = time.time()\n",
    "\n",
    "    # Predictions on the testing set\n",
    "    y_pred = classifier.predict(scaled_X_test)\n",
    "\n",
    "    # Record end time for prediction\n",
    "    end_time_pred = time.time()\n",
    "\n",
    "    # Calculate time taken for training and prediction\n",
    "    train_time = end_time_train - start_time_train\n",
    "    pred_time = end_time_pred - start_time_pred\n",
    "\n",
    "    # Evaluate performance metrics\n",
    "    accuracy = round(accuracy_score(y_test, y_pred), 3)\n",
    "    precision = round(precision_score(y_test, y_pred, average='weighted'), 3)\n",
    "    recall = round(recall_score(y_test, y_pred, average='weighted'), 3)\n",
    "    f1 = round(f1_score(y_test, y_pred, average='weighted'), 3)\n",
    "\n",
    "    # Store results in the summary table\n",
    "    result_summary['Model'].append(name)\n",
    "    result_summary['Time (s)'].append(round(train_time + pred_time, 3))\n",
    "    result_summary['Accuracy'].append(accuracy)\n",
    "    result_summary['Precision'].append(precision)\n",
    "    result_summary['Recall'].append(recall)\n",
    "    result_summary['F1_Score'].append(f1)\n",
    "\n",
    "# Display the result summary table with better styling\n",
    "result_df = pd.DataFrame(result_summary)\n",
    "styled_df = result_df.style.set_table_styles([\n",
    "    {'selector': 'thead',\n",
    "     'props': [\n",
    "         ('font-size', '18px'),\n",
    "         ('color', 'darkblue'),\n",
    "         ('background-color', 'lightgrey')\n",
    "     ]},\n",
    "    {'selector': 'th',\n",
    "     'props': [\n",
    "         ('font-size', '16px'),\n",
    "         ('color', 'black'),\n",
    "         ('background-color', 'lightgrey')\n",
    "     ]},\n",
    "    {'selector': 'td',\n",
    "     'props': [\n",
    "         ('font-size', '14px')\n",
    "     ]},\n",
    "])\n",
    "\n",
    "styled_df\n"
   ]
  },
  {
   "cell_type": "markdown",
   "metadata": {},
   "source": [
    "### Observation:\n",
    "\n",
    "After hyperparameter tuning, both **Random Forest** and **Gradient Boosting** models demonstrated improvements across various performance metrics. The tuned *Random Forest* model exhibited enhanced precision, recall, and F1 Score, resulting in an overall accuracy boost. Similarly, the *Gradient Boosting* model, after tuning, showcased improved precision, recall, and F1 Score, indicating increased effectiveness in classifying instances. The results affirm the positive impact of hyperparameter optimization on model performance."
   ]
  },
  {
   "cell_type": "markdown",
   "metadata": {},
   "source": [
    "### Opportunities for Further Exploration:\n",
    "\n",
    "Given that we haven't exhaustively employed all available machine learning classification algorithms and techniques, there exists significant potential to enhance results. Additionally, I recommend delving into deep learning methodologies to assess whether they yield superior outcomes in our context."
   ]
  },
  {
   "cell_type": "markdown",
   "metadata": {},
   "source": [
    "#### Citation\n",
    "Ayres de Campos et al. (2000) SisPorto 2.0 A Program for Automated Analysis of Cardiotocograms. J Matern Fetal Med 5:311-318 ([link](insert_link_here))\n",
    "#### License\n",
    "The license was not specified at the source; however, access to the data is public, and a citation was requested.\n"
   ]
  },
  {
   "cell_type": "code",
   "execution_count": null,
   "metadata": {},
   "outputs": [],
   "source": []
  }
 ],
 "metadata": {
  "kernelspec": {
   "display_name": "Python 3 (ipykernel)",
   "language": "python",
   "name": "python3"
  },
  "language_info": {
   "codemirror_mode": {
    "name": "ipython",
    "version": 3
   },
   "file_extension": ".py",
   "mimetype": "text/x-python",
   "name": "python",
   "nbconvert_exporter": "python",
   "pygments_lexer": "ipython3",
   "version": "3.9.13"
  }
 },
 "nbformat": 4,
 "nbformat_minor": 4
}
